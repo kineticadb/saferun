{
 "cells": [
  {
   "cell_type": "markdown",
   "id": "87370e79",
   "metadata": {},
   "source": [
    "# Generating Safer Workout Routes At Night\n",
    "By Mina Negahban\n",
    "\n",
    "Despite the many dangers associated with running at night, 68% of people do so regularly<sup>(1)</sup>. One of the challenges during a run is staying focused, and fears of what could be hiding in the dark can be distracting, and ultimately decrease one's performance. Running should not be stressful or fear inducing, it should be relaxing, or at the very least time a time when you can focus completley on your self and your fitness. Our goal today is to generate safer routes for runners (or anyone out at night), in order to reduce this fear. The route will be optimized based on streetlight locations using Kinetica’s graph solver, to produce the most well lit path between the user’s specified origin and destination points.    "
   ]
  },
  {
   "cell_type": "markdown",
   "id": "6c1217e8",
   "metadata": {},
   "source": [
    "## Required Data Sets\n",
    "We will be using 2 datasets, which are listed below:\n",
    "* DC street light data (.csv)\n",
    "    * https://opendata.dc.gov/datasets/DCGIS::street-lights/about\n",
    "* DC road network data (.zip)\n",
    "    * https://download.geofabrik.de/north-america/us/district-of-columbia.html\n",
    "    * After downloading the .zip file, convert the file named **gis_osm_roads_free_1.shp** into a .csv file using gdal:\n",
    "        - input ``ogr2ogr -f CSV dcGeo.csv gis_osm_roads_free_1.shp -lco GEOMETRY=AS_WKT`` into your command line\n",
    "\n",
    "    \n",
    "Before loading both .csv files into the database, you'll need to get them onto the database machine. Grab the files referenced above and either put them into the /mnt/persist folder of Kinetica Dev Edition, or load them into a directory of your choice (e.g., /safeRoutes) on Kinetica Cloud via the KIFS upload screen. You can find more information here: https://docs.kinetica.com/7.1/tools/kifs/"
   ]
  },
  {
   "cell_type": "code",
   "execution_count": 2,
   "id": "3f05635c",
   "metadata": {},
   "outputs": [],
   "source": [
    "import gpudb"
   ]
  },
  {
   "cell_type": "markdown",
   "id": "c855aa9e",
   "metadata": {},
   "source": [
    "We'll be interacting with Kinetica along the way, loading data, setting up graph optimziations, and viewing results. Ensure to export these environment variables (or override them below): **KINETICA_HOST, KINETICA_USER, KINETICA_PASS**. All the code below is Python, but many are SQL commands excuted via Python directly against the database you connect to below."
   ]
  },
  {
   "cell_type": "code",
   "execution_count": null,
   "id": "e7808647",
   "metadata": {},
   "outputs": [],
   "source": [
    "KINETICA_HOST = os.getenv('KINETICA_HOST', \"localhost:9191\")\n",
    "KINETICA_USER = os.getenv('KINETICA_USER', \"admin\")\n",
    "KINETICA_PASS = os.getenv('KINETICA_PASS')\n",
    "db = gpudb.GPUdb(host=KINETICA_HOST, username=KINETICA_USER, password=KINETICA_PASS)"
   ]
  },
  {
   "cell_type": "markdown",
   "id": "21b6c6f0",
   "metadata": {},
   "source": [
    "### Ingest Data"
   ]
  },
  {
   "cell_type": "code",
   "execution_count": null,
   "id": "cd59ab0a",
   "metadata": {},
   "outputs": [],
   "source": [
    "exec_result = db.execute_sql(\"\"\"\n",
    "LOAD DATA INTO ki_home.dc_streetlight_fixtures\n",
    "FROM FILE PATHS 'data/Street_Lights.csv'\n",
    "FORMAT TEXT (INCLUDES HEADER = true);\n",
    "\"\"\")"
   ]
  },
  {
   "cell_type": "code",
   "execution_count": null,
   "id": "3a4c4d99",
   "metadata": {},
   "outputs": [],
   "source": [
    "exec_result = db.execute_sql(\"\"\"\n",
    "LOAD DATA INTO ki_home.dc_osm\n",
    "FROM FILE PATHS 'data/dcGeo.csv'\n",
    "FORMAT TEXT (INCLUDES HEADER = true);\n",
    "\"\"\")"
   ]
  },
  {
   "cell_type": "markdown",
   "id": "fbf4b8d9",
   "metadata": {},
   "source": [
    "### Prep Streetlight Data\n",
    "\n",
    "First we must convert the street light points into polygons inorder to create buffers around the lights, which represents their lightspan."
   ]
  },
  {
   "cell_type": "code",
   "execution_count": null,
   "id": "777ea5c9",
   "metadata": {},
   "outputs": [],
   "source": [
    "exec_result = db.execute_sql(\"\"\"create table dc_buffer_ids\n",
    "  AS (SELECT st_buffer(ST_POINT(ki_home.dc_streetlight_fixtures.x, ki_home.dc_streetlight_fixtures.y), 9, '', 1), street_light_id\n",
    "  FROM ki_home.dc_streetlight_fixtures);\n",
    "  \"\"\")"
   ]
  },
  {
   "cell_type": "markdown",
   "id": "e96b6a14",
   "metadata": {},
   "source": [
    "\n",
    "Next we will find all the intersections between the lights and the roads."
   ]
  },
  {
   "cell_type": "code",
   "execution_count": null,
   "id": "1d025064",
   "metadata": {},
   "outputs": [],
   "source": [
    "exec_result = db.execute_sql(\"\"\"CREATE TABLE dc_intersects\n",
    "  AS (SELECT dc_buffer_ids.street_light_id, dc_osm.osm_id \n",
    "FROM dc_buffer_ids, dc_osm \n",
    "WHERE ST_Intersects(dc_osm.geom_wkt,dc_buffer_ids.EXPR_0)\n",
    ");\n",
    "\"\"\")"
   ]
  },
  {
   "cell_type": "markdown",
   "id": "023b55f8",
   "metadata": {},
   "source": [
    "\n",
    "Convert the polygons representing the street lights into a single multipolygon"
   ]
  },
  {
   "cell_type": "code",
   "execution_count": null,
   "id": "bb430901",
   "metadata": {},
   "outputs": [],
   "source": [
    "exec_result = db.execute_sql(\"\"\"create table lights_single_poly\n",
    "AS (SELECT st_dissolve(EXPR_0)\n",
    "from dc_buffer_ids\n",
    ");\n",
    "\"\"\")"
   ]
  },
  {
   "cell_type": "markdown",
   "id": "50d5f354",
   "metadata": {},
   "source": [
    "\n",
    "Perform gejoin"
   ]
  },
  {
   "cell_type": "code",
   "execution_count": null,
   "id": "489e2783",
   "metadata": {},
   "outputs": [],
   "source": [
    "exec_result = db.execute_sql(\"\"\"\n",
    "create table lightness\n",
    "AS (SELECT \n",
    "  osm_id AS \"osm_id\",\n",
    "  COUNT(*) AS \"light\"\n",
    "FROM\n",
    "  ki_home.dc_osm\n",
    "  JOIN ki_home.lights_single_poly\n",
    "    ON ST_INTERSECTS(geom_wkt, EXPR_0) = 1\n",
    "GROUP BY\n",
    "  osm_id\n",
    "  );\n",
    "\"\"\")"
   ]
  },
  {
   "cell_type": "markdown",
   "id": "3a0bb19a",
   "metadata": {},
   "source": [
    "\n",
    "Add light column"
   ]
  },
  {
   "cell_type": "code",
   "execution_count": null,
   "id": "cc06c0b9",
   "metadata": {},
   "outputs": [],
   "source": [
    "exec_result = db.execute_sql(\"\"\"\n",
    "ALTER TABLE dc_osm\n",
    "ADD light int;\n",
    "\"\"\")\n",
    "\n",
    "db.execute_sql(\"\"\"\n",
    "update dc_osm os\n",
    "set light = 1 \n",
    "where osm_id=\n",
    "(\n",
    "SELECT osm_id\n",
    "        FROM ki_home.lightness l\n",
    "        WHERE os.osm_id = l.osm_id\n",
    "        );\n",
    "\"\"\")"
   ]
  },
  {
   "cell_type": "markdown",
   "id": "c4816515",
   "metadata": {},
   "source": [
    "### Graph\n",
    "\n",
    "First we will create the graph with weights"
   ]
  },
  {
   "cell_type": "code",
   "execution_count": null,
   "id": "5a302e60",
   "metadata": {},
   "outputs": [],
   "source": [
    "exec_result = {\n",
    "  \"graph_name\": \"dc_osm_graph\",\n",
    "  \"directed_graph\": false,\n",
    "  \"nodes\": [],\n",
    "  \"edges\": [\n",
    "    \"ki_home.dc_osmosm_small.osm_id AS EDGE_ID\",\n",
    "    \"ki_home.dc_osmosm_small.geom_wkt AS EDGE_WKTLINE\"\n",
    "  ],\n",
    "  \"weights\": [\n",
    "    \"ki_home.dc_osmosm_small.osm_id AS WEIGHTS_EDGE_ID\",\n",
    "    \"ST_Length(ki_home.osm_small.geom_wkt,1)/(ST_NPoints(ki_home.osm_small.geom_wkt)-1) + ((1- ki_home.osm_small.light)*20) AS WEIGHTS_VALUESPECIFIED\"\n",
    "  ],\n",
    "  \"restrictions\": [],\n",
    "  \"options\": {\n",
    "    \"merge_tolerance\": \"0.00001\",\n",
    "    \"use_rtree\": \"false\",\n",
    "    \"min_x\": \"-180\",\n",
    "    \"max_x\": \"180\",\n",
    "    \"min_y\": \"-90\",\n",
    "    \"max_y\": \"90\",\n",
    "    \"recreate\": \"true\",\n",
    "    \"modify\": \"false\",\n",
    "    \"export_create_results\": \"false\",\n",
    "    \"enable_graph_draw\": \"true\",\n",
    "    \"save_persist\": \"false\",\n",
    "    \"sync_db\": \"false\",\n",
    "    \"add_table_monitor\": \"false\",\n",
    "    \"graph_table\": \"ki_home.dc_osm_graph_table\",\n",
    "    \"add_turns\": \"false\",\n",
    "    \"turn_angle\": \"60.0\",\n",
    "    \"is_partitioned\": \"false\"\n",
    "  }\n",
    "}"
   ]
  },
  {
   "cell_type": "markdown",
   "id": "73f7f99e",
   "metadata": {},
   "source": [
    "\n",
    "Now we will solve the graph using the shortest_path solver"
   ]
  },
  {
   "cell_type": "code",
   "execution_count": null,
   "id": "fe5e86fe",
   "metadata": {},
   "outputs": [],
   "source": [
    "exec_result = {\n",
    "  \"graph_name\": \"dc_osm_graph\",\n",
    "  \"weights_on_edges\": [],\n",
    "  \"restrictions\": [],\n",
    "  \"solver_type\": \"SHORTEST_PATH\",\n",
    "  \"source_nodes\": [\n",
    "    \"{'POINT(-77.037124 38.926142)'} AS NODE_WKTPOINT\"\n",
    "  ],\n",
    "  \"destination_nodes\": [\n",
    "    \"{'POINT(-77.042686 38.922676)'} AS NODE_WKTPOINT\"\n",
    "  ],\n",
    "  \"solution_table\": \"ki_home.dc_lit_path_solved28\",\n",
    "  \"options\": {\n",
    "    \"export_solve_results\": \"false\",\n",
    "    \"min_solution_radius\": \"0.0\",\n",
    "    \"max_solution_radius\": \"0.0\",\n",
    "    \"max_solution_targets\": \"0\",\n",
    "    \"accurate_snaps\": \"true\",\n",
    "    \"left_turn_penalty\": \"0.0\",\n",
    "    \"right_turn_penalty\": \"0.0\",\n",
    "    \"intersection_penalty\": \"0.0\",\n",
    "    \"sharp_turn_penalty\": \"0.0\",\n",
    "    \"output_edge_path\": \"false\",\n",
    "    \"output_wkt_path\": \"true\"\n",
    "  }\n",
    "}"
   ]
  },
  {
   "cell_type": "markdown",
   "id": "458b6f31",
   "metadata": {},
   "source": [
    "### Further Applications\n",
    "More layers can be added to this model to generate even safer routes with more nuances. Additional wieghts can be added based on:\n",
    "* Real time police reports \n",
    "    * This will also highlight Kinetica's capabilities with live streaming data ingest\n",
    "* Cell coverage\n",
    "* Streets with sidewalks/bikelanes\n",
    "* CCTV locations\n",
    "* Zone type\n",
    "* Terrain type\n",
    "This model does not have to be limited to only runner safety. Some examples of applications beyond running include:\n",
    "* Hiking/biking routes\n",
    "* Student safety on/sorrounding college campuses\n",
    "* Parking at night"
   ]
  },
  {
   "cell_type": "markdown",
   "id": "879177f8",
   "metadata": {},
   "source": [
    "### Refrences\n",
    "\n",
    "1. Fuehrer, Dan, et al. “What Time of Day Do People Run?” *Runner's World*, 17 Sept. 2020, www.runnersworld.com/training/a20812346/what-time-of-day-do-people-run/. "
   ]
  }
 ],
 "metadata": {
  "kernelspec": {
   "display_name": "Python 3",
   "language": "python",
   "name": "python3"
  },
  "language_info": {
   "codemirror_mode": {
    "name": "ipython",
    "version": 3
   },
   "file_extension": ".py",
   "mimetype": "text/x-python",
   "name": "python",
   "nbconvert_exporter": "python",
   "pygments_lexer": "ipython3",
   "version": "3.8.8"
  }
 },
 "nbformat": 4,
 "nbformat_minor": 5
}
