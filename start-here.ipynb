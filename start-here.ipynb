{
 "cells": [
  {
   "cell_type": "markdown",
   "id": "f16ef06c",
   "metadata": {},
   "source": [
    "<img src=\"https://2wz2rk1b7g6s3mm3mk3dj0lh-wpengine.netdna-ssl.com/wp-content/uploads/2018/08/kinetica_logo.svg\" alt=\"Kinetica Logo\" width=\"300\" align=\"left\"/>"
   ]
  },
  {
   "cell_type": "markdown",
   "id": "c7c1d8ef",
   "metadata": {},
   "source": [
    "### The Database for Space and Time"
   ]
  },
  {
   "cell_type": "markdown",
   "id": "2433ac05",
   "metadata": {},
   "source": [
    "# Generating Safer Workout Routes At Night\n",
    "\n",
    "By Mina Negahban\n",
    "\n",
    "Despite the many dangers associated with running at night, 68% of people do so regularly<sup>(1)</sup>. One of the challenges during a run is staying focused -- fears of what could be hiding in the dark can be distracting, and ultimately decrease one's performance. Running should not be stressful or fear inducing, it should be relaxing, or at the very least a time when you can focus completley on your self and your fitness. \n",
    "\n",
    "Our goal with this project is to generate safer routes for runners (or anyone out at night). The route will be optimized based on streetlight locations using Kinetica’s graph solver, to produce the most well lit path between the user’s specified origin and destination points. "
   ]
  },
  {
   "cell_type": "markdown",
   "id": "b0872b9d",
   "metadata": {},
   "source": [
    "![What we want, visualized in side-by-side images](images/comparison.png)"
   ]
  },
  {
   "cell_type": "markdown",
   "id": "6365b143",
   "metadata": {},
   "source": [
    "## Table of Contents:\n",
    "- [Problem Setup](#problem-setup)\n",
    "- [Caveats & Simplifying Assumptions](#caveats-simplifying-assumptions)\n",
    "-  [Getting Started](#getting-started)\n",
    "   * [Required Data](#required-data)\n",
    "   * [Data Wrangling](#data-wrangling)\n",
    "-  [Implementation](#implementation)\n",
    "-  [Results](#results)\n",
    "-  [Taking This Further](#taking-this-further)\n",
    "-  [Further Reading](#further-reading)\n",
    "-  [Documentation](#documentation)\n",
    "-  [About Us](#about-us)\n",
    "-  [Contact Us](#contact-us)"
   ]
  },
  {
   "cell_type": "markdown",
   "id": "552ce267",
   "metadata": {},
   "source": [
    "## Problem Setup\n",
    "\n",
    "We set this problem up as a graph optimization with edge weights that favor the traversal of lit streets. We will create a light mask based on the intersections between lights (and their surrounding radius) and streets to enrich our road network data to determine whether each street segment is lit or not."
   ]
  },
  {
   "cell_type": "markdown",
   "id": "4b62d4c2",
   "metadata": {},
   "source": [
    "### Caveats & Simplifying Assumptions\n",
    "\n",
    "* We currently assume that all lights are of the same luminosity, though that is not the case. Our dataset has luminosity attributes for some of the lights, but not all.\n",
    "* We currently assume uniformly distributed light around the light source, though in reality there are often obstructions such as trees\n",
    "* We currently do not add up luminosity from multiple overlapping lights, but we feel this would have a very minor effect on our results."
   ]
  },
  {
   "cell_type": "markdown",
   "id": "c1470e3a",
   "metadata": {},
   "source": [
    "## Getting Started\n",
    "\n",
    "To get started immediately, you can run everything below quickly on the [Developer Edition](https://www.kinetica.com/try/) or via [Kinetica Cloud](https://www.kinetica.com/kinetica-as-a-service-on-azure/)\n",
    "\n",
    "Then, import this repo from GitHub:\n",
    "\n",
    "```\n",
    "\tgit clone git@github.com:kineticadb/saferun.git\n",
    "\tcd saferun\n",
    "```\n",
    "\n",
    "Set up python dependencies:\n",
    "\n",
    "```\n",
    "\tpip install -r requirements.txt\n",
    "```\n",
    "Export your credentials as environment variables and the the [Jupyter notebook](https://github.com/kineticadb/saferoute/blob/master/start-here.ipynb) will lead you from start to finish!\n",
    "\n",
    "```\t\n",
    "\texport KINETICA_HOST='https://xyz.eastus.cloudapp.azure.com/abc/gpudb-0'\n",
    "\texport KINETICA_USER='kadmin'\n",
    "\texport KINETICA_PASS='xyz'\n",
    "\tjupyter notebook\n",
    "```"
   ]
  },
  {
   "cell_type": "code",
   "execution_count": null,
   "id": "3f05635c",
   "metadata": {},
   "outputs": [],
   "source": [
    "import gpudb\n",
    "import os"
   ]
  },
  {
   "cell_type": "markdown",
   "id": "c855aa9e",
   "metadata": {},
   "source": [
    "We'll be interacting with Kinetica along the way to load data, set up graph optimziations, and view results. Make sure to export these environment variables (or override them below): **KINETICA_HOST, KINETICA_USER, KINETICA_PASS**. All the code below is Python, but many are SQL commands excuted via Python directly against the database you connect to below."
   ]
  },
  {
   "cell_type": "code",
   "execution_count": null,
   "id": "e7808647",
   "metadata": {},
   "outputs": [],
   "source": [
    "KINETICA_HOST = os.getenv('KINETICA_HOST', \"http://localhost:9191\")\n",
    "KINETICA_USER = os.getenv('KINETICA_USER', \"kadmin\")\n",
    "KINETICA_PASS = os.getenv('KINETICA_PASS')\n",
    "db = gpudb.GPUdb(host=KINETICA_HOST, username=KINETICA_USER, password=KINETICA_PASS)\n",
    "exec_result = db.execute_sql_and_decode('show system properties')['status_info']['status']\n",
    "print(exec_result)"
   ]
  },
  {
   "cell_type": "markdown",
   "id": "73cb2332",
   "metadata": {},
   "source": [
    "### Required Data\n",
    "\n",
    "We will be using two datasets to drive our optimizations:\n",
    "* DC Street Light Dataset: https://opendata.dc.gov/datasets/DCGIS::street-lights/about\n",
    "* DC Road Network Dataset: https://download.geofabrik.de/north-america/us/district-of-columbia.html\n",
    "\n",
    "In case the original data disappears over time, we have staged the data on our own site:\n",
    "* DC Street Light Dataset: https://kinetica-community.s3.amazonaws.com/safe-run/Street_Lights.csv\n",
    "* DC Road Network Dataset: https://kinetica-community.s3.amazonaws.com/safe-run/dc_nova__road_network.csv"
   ]
  },
  {
   "cell_type": "markdown",
   "id": "e52b992c",
   "metadata": {},
   "source": [
    "### Data Wrangling\n",
    "\n",
    "After downloading the DC Road Network ZIP file, convert the file named **gis_osm_roads_free_1.shp** into a .csv file using gdal (https://gdal.org/):\n",
    "\n",
    "`ogr2ogr -f CSV dcGeo.csv gis_osm_roads_free_1.shp -lco GEOMETRY=AS_WKT`\n",
    "\n",
    "The street light data and converted road network data need to be on the database machine before they can be ingested. If using Kinetica Dev Edition, you can place them at `/mnt/persist` and if using Kinetica Cloud, they can be loaded via the KIFS upload screen. You can find more information here: https://docs.kinetica.com/7.1/tools/kifs/\n",
    "\n",
    "If you want to use our ready-converted road network data, you can skip the above step and use this file:\n",
    "https://kinetica-community.s3.amazonaws.com/safe-run/dc_nova__road_network.csv"
   ]
  },
  {
   "cell_type": "markdown",
   "id": "21b6c6f0",
   "metadata": {},
   "source": [
    "Lets start with creating the target tables and loading our CSVs into them:"
   ]
  },
  {
   "cell_type": "code",
   "execution_count": null,
   "id": "6e6bb2b5",
   "metadata": {},
   "outputs": [],
   "source": [
    "exec_result = db.execute_sql(\"\"\"\n",
    "CREATE OR REPLACE TABLE \"ki_home\".\"dc_streetlight_fixtures\"\n",
    "(\n",
    "   \"X\" VARCHAR (128) NOT NULL,\n",
    "   \"Y\" VARCHAR (64) NOT NULL,\n",
    "   \"ADDEDBY\" VARCHAR (64, dict) NOT NULL,\n",
    "   \"ADDTOGIS\" VARCHAR (128, dict) NOT NULL,\n",
    "   \"ARMLENGTH1_DESC\" VARCHAR (64, dict) NOT NULL,\n",
    "   \"ARMLENGTH2_DESC\" VARCHAR (64, dict),\n",
    "   \"ARMSTYLE_DESC\" VARCHAR (128, dict) NOT NULL,\n",
    "   \"ASSETSTATUS_DESC\" VARCHAR (64, dict) NOT NULL,\n",
    "   \"ASSETTYPE\" VARCHAR (64, dict) NOT NULL,\n",
    "   \"CCT_DESC\" VARCHAR (32, dict),\n",
    "   \"CONDITION_DESC\" VARCHAR (128, dict),\n",
    "   \"CROSSSTREET\" VARCHAR (128, dict) NOT NULL,\n",
    "   \"FACILITYID\" VARCHAR (64) NOT NULL,\n",
    "   \"FEEDMANHOLE_DESC\" VARCHAR (64, dict),\n",
    "   \"FIXTURESTYLE_DESC\" VARCHAR (128, dict) NOT NULL,\n",
    "   \"GLOBALID\" VARCHAR (32),\n",
    "   \"HOUSENO\" VARCHAR (32, dict) NOT NULL,\n",
    "   \"INOPERATION\" VARCHAR (128, dict) NOT NULL,\n",
    "   \"ISMETERED_DESC\" VARCHAR (64, dict) NOT NULL,\n",
    "   \"ISMODIFIED_DESC\" VARCHAR (64, dict),\n",
    "   \"LASTMODIFIED\" VARCHAR (128, dict) NOT NULL,\n",
    "   \"LASTPAINTED\" VARCHAR (128, dict) NOT NULL,\n",
    "   \"LEDINOPERATION\" VARCHAR (128, dict) NOT NULL,\n",
    "   \"LIGHTHISTORY\" VARCHAR,\n",
    "   \"LIGHTMANUFACTURER_DESC\" VARCHAR (128, dict),\n",
    "   \"LIGHTTYPE_DESC\" VARCHAR (128, dict) NOT NULL,\n",
    "   \"NUMBERLIGHTS\" VARCHAR (64, dict) NOT NULL,\n",
    "   \"NUMBERARMS_DESC\" VARCHAR (64, dict),\n",
    "   \"OBJECTID\" VARCHAR (32) NOT NULL,\n",
    "   \"OTHEREQUIPMENT\" VARCHAR (64, dict),\n",
    "   \"OWNER_DESC\" VARCHAR (64, dict) NOT NULL,\n",
    "   \"PEPCOLIGHTID\" VARCHAR (64),\n",
    "   \"POLECOLOR_DESC\" VARCHAR (64, dict),\n",
    "   \"POLECOMPOSITION_DESC\" VARCHAR (128, dict),\n",
    "   \"POLEHEIGHT_DESC\" VARCHAR (64, dict) NOT NULL,\n",
    "   \"POLETYPE_DESC\" VARCHAR (64, dict) NOT NULL,\n",
    "   \"POWERFEED_DESC\" VARCHAR (64, dict) NOT NULL,\n",
    "   \"PROXIMITY_DESC\" VARCHAR (64, dict),\n",
    "   \"QUADRANT_DESC\" VARCHAR (64, dict) NOT NULL,\n",
    "   \"RMS_DESC\" VARCHAR (64, dict),\n",
    "   \"ROADCLASSIFICATION_DESC\" VARCHAR (128, dict),\n",
    "   \"SHIELD_DESC\" VARCHAR (128, dict),\n",
    "   \"STREETLIGHTID\" VARCHAR (64) NOT NULL,\n",
    "   \"STREETNAME\" VARCHAR (128, dict) NOT NULL,\n",
    "   \"STREETSEGMID\" VARCHAR (64),\n",
    "   \"TBASETYPE_DESC\" VARCHAR (64, dict) NOT NULL,\n",
    "   \"TRAFFICCOMBO\" VARCHAR (64, dict),\n",
    "   \"WARD\" VARCHAR (32) NOT NULL,\n",
    "   \"WATTAGE1\" VARCHAR (32, dict) NOT NULL,\n",
    "   \"WATTAGE2\" VARCHAR (32, dict),\n",
    "   \"WHATMODIFIED\" VARCHAR (256, dict),\n",
    "   \"WHYINACTIVE\" VARCHAR (128, dict),\n",
    "   \"SUBBLOCKKEY\" VARCHAR (128),\n",
    "   \"XCOORD\" VARCHAR (32) NOT NULL,\n",
    "   \"YCOORD\" VARCHAR (32) NOT NULL,\n",
    "   \"GIS_ID\" VARCHAR (32),\n",
    "   \"GLOBALID_1\" VARCHAR (256) NOT NULL,\n",
    "   \"CREATOR\" VARCHAR (32),\n",
    "   \"CREATED\" VARCHAR (128, dict) NOT NULL,\n",
    "   \"EDITOR\" VARCHAR (32),\n",
    "   \"EDITED\" VARCHAR (128, dict) NOT NULL\n",
    ")\n",
    "\"\"\")\n",
    "exec_result['status_info']"
   ]
  },
  {
   "cell_type": "code",
   "execution_count": null,
   "id": "dcb36409",
   "metadata": {},
   "outputs": [],
   "source": [
    "exec_result = db.execute_sql(\"\"\"\n",
    "CREATE OR REPLACE TABLE \"ki_home\".\"dc_osm\"\n",
    "(\n",
    "   \"WKT\" GEOMETRY NOT NULL,\n",
    "   \"osm_id\" BIGINT NOT NULL,\n",
    "   \"code\" INTEGER NOT NULL,\n",
    "   \"fclass\" VARCHAR (64, dict) NOT NULL,\n",
    "   \"name\" VARCHAR (256),\n",
    "   \"ref\" VARCHAR (128, dict),\n",
    "   \"oneway\" VARCHAR (32) NOT NULL,\n",
    "   \"maxspeed\" INTEGER NOT NULL,\n",
    "   \"layer\" INTEGER NOT NULL,\n",
    "   \"bridge\" VARCHAR (32) NOT NULL,\n",
    "   \"tunnel\" VARCHAR (32) NOT NULL\n",
    ")\n",
    "\"\"\")\n",
    "exec_result['status_info']"
   ]
  },
  {
   "cell_type": "code",
   "execution_count": null,
   "id": "cd59ab0a",
   "metadata": {},
   "outputs": [],
   "source": [
    "exec_result = db.execute_sql(\"\"\"\n",
    "LOAD DATA INTO ki_home.dc_streetlight_fixtures\n",
    "FROM FILE PATHS 'data/Street_Lights.csv'\n",
    "FORMAT TEXT (INCLUDES HEADER = false);\n",
    "\"\"\")\n",
    "exec_result['status_info']"
   ]
  },
  {
   "cell_type": "code",
   "execution_count": null,
   "id": "ae3f60d4",
   "metadata": {},
   "outputs": [],
   "source": [
    "exec_result = db.execute_sql(\"\"\"\n",
    "ALTER COLUMN dc_streetlight_fixtures.X DOUBLE NOT NULL;\n",
    "\"\"\")\n",
    "exec_result['status_info']"
   ]
  },
  {
   "cell_type": "code",
   "execution_count": null,
   "id": "c426ac19",
   "metadata": {},
   "outputs": [],
   "source": [
    "exec_result = db.execute_sql(\"\"\"\n",
    "ALTER COLUMN dc_streetlight_fixtures.Y DOUBLE NOT NULL;\n",
    "\"\"\")\n",
    "exec_result['status_info']"
   ]
  },
  {
   "cell_type": "code",
   "execution_count": null,
   "id": "3a4c4d99",
   "metadata": {},
   "outputs": [],
   "source": [
    "exec_result = db.execute_sql(\"\"\"\n",
    "LOAD DATA INTO ki_home.dc_osm\n",
    "FROM FILE PATHS 'data/dc_nova__road_network.csv'\n",
    "FORMAT TEXT (INCLUDES HEADER = true);\n",
    "\"\"\")\n",
    "exec_result['status_info']"
   ]
  },
  {
   "cell_type": "markdown",
   "id": "bbe2891f",
   "metadata": {},
   "source": [
    "## Implementation "
   ]
  },
  {
   "cell_type": "markdown",
   "id": "fbf4b8d9",
   "metadata": {},
   "source": [
    "### Prep Streetlight Data\n",
    "\n",
    "First we must convert the street light points into polygons inorder to create buffers around the lights, which represents their lightspan. For this project we have estimated 9 meters as our buffer radius, which is the average height of all of the streetlights in this data set. "
   ]
  },
  {
   "cell_type": "code",
   "execution_count": null,
   "id": "777ea5c9",
   "metadata": {},
   "outputs": [],
   "source": [
    "exec_result = db.execute_sql(\"\"\"create table dc_buffer_ids\n",
    "  AS (SELECT st_buffer(ST_POINT(ki_home.dc_streetlight_fixtures.X, ki_home.dc_streetlight_fixtures.Y), 9, '', 1), STREETLIGHTID\n",
    "  FROM ki_home.dc_streetlight_fixtures);\n",
    "  \"\"\")"
   ]
  },
  {
   "cell_type": "markdown",
   "id": "402c1037",
   "metadata": {},
   "source": [
    "Below is an image of the WMS preview from the previous step's output.\n",
    "![buffer.png](images/map1.png)"
   ]
  },
  {
   "cell_type": "markdown",
   "id": "b2697465",
   "metadata": {},
   "source": [
    "This next step is only for demo purposes. We will create a filter to only look at a small subset of the data. You may skip this step if you are running a cloud instance. This is just to save time, so we don't have to go through the enitre data set for each query. If you do chose to skip this step, please make sure to change the table names that appear in the future steps from the ones we will create and refer to here. If you are using this filter this is what the area it covers should look like:\n",
    "![map%20%281%29.png](images/map2.png)"
   ]
  },
  {
   "cell_type": "code",
   "execution_count": null,
   "id": "98534c4f",
   "metadata": {},
   "outputs": [],
   "source": [
    "exec_result = db.execute_sql(\"\"\"create or replace table fixtures_small\n",
    "AS(\n",
    "SELECT *\n",
    "FROM ki_home.dc_streetlight_fixtures s\n",
    "WHERE stxy_within(s.X, s.Y, ST_GEOMFROMTEXT(ST_GEOMFROMTEXT('POLYGON((-77.045831 38.933725, -77.000413 38.933725, -77.000413 38.902188, -77.045831 38.902188, -77.045831 38.933725))'))\n",
    ")\n",
    ");\n",
    "\"\"\")"
   ]
  },
  {
   "cell_type": "code",
   "execution_count": null,
   "id": "0f525967",
   "metadata": {},
   "outputs": [],
   "source": [
    "exec_result = db.execute_sql(\"\"\"create or replace table osm_small\n",
    "AS(\n",
    "SELECT *\n",
    "FROM ki_home.dc_osm o\n",
    "WHERE st_within(o.WKT, ST_GEOMFROMTEXT(ST_GEOMFROMTEXT('POLYGON((-77.045831 38.933725, -77.000413 38.933725, -77.000413 38.902188, -77.045831 38.902188, -77.045831 38.933725))'))\n",
    ")\n",
    ");\n",
    "\"\"\")"
   ]
  },
  {
   "cell_type": "code",
   "execution_count": null,
   "id": "1ab97177",
   "metadata": {},
   "outputs": [],
   "source": [
    "exec_result = db.execute_sql(\"\"\"create or replace table dc_buffers_small\n",
    "AS(\n",
    "SELECT *\n",
    "FROM ki_home.dc_buffer_ids b\n",
    "WHERE st_within(b.EXPR_0, ST_GEOMFROMTEXT(ST_GEOMFROMTEXT('POLYGON((-77.045831 38.933725, -77.000413 38.933725, -77.000413 38.902188, -77.045831 38.902188, -77.045831 38.933725))'))\n",
    ")\n",
    ");\n",
    "\"\"\")"
   ]
  },
  {
   "cell_type": "markdown",
   "id": "023b55f8",
   "metadata": {},
   "source": [
    "\n",
    "Convert the polygons representing the street lights into a single multipolygon, which we will use as a mask for light. Notice how if multiple radii intersect, they are combined into one:\n",
    "![Screen%20Shot%202021-09-07%20at%202.02.22%20PM.png](images/map3.png)"
   ]
  },
  {
   "cell_type": "code",
   "execution_count": null,
   "id": "bb430901",
   "metadata": {},
   "outputs": [],
   "source": [
    "exec_result = db.execute_sql(\"\"\"create table lights_single_poly\n",
    "AS (SELECT st_dissolve(EXPR_0)\n",
    "from dc_buffers_small\n",
    ");\n",
    "\"\"\")"
   ]
  },
  {
   "cell_type": "markdown",
   "id": "50d5f354",
   "metadata": {},
   "source": [
    "Now we will perform a geojoin by finding all the intersections between our light mask and road netowrk data."
   ]
  },
  {
   "cell_type": "code",
   "execution_count": null,
   "id": "489e2783",
   "metadata": {},
   "outputs": [],
   "source": [
    "exec_result = db.execute_sql(\"\"\"\n",
    "create table lightness\n",
    "AS (SELECT \n",
    "  osm_id AS \"osm_id\",\n",
    "  COUNT(*) AS \"light\"\n",
    "FROM\n",
    "  ki_home.osm_small\n",
    "  JOIN ki_home.lights_single_poly\n",
    "    ON ST_INTERSECTS(WKT, EXPR_0) = 1\n",
    "GROUP BY\n",
    "  osm_id\n",
    "  );\n",
    "\"\"\")"
   ]
  },
  {
   "cell_type": "markdown",
   "id": "3a0bb19a",
   "metadata": {},
   "source": [
    "\n",
    "Next we will add a column to the road network data indicating the presence of light based on the table we just created. If the OSM ID of the road is found in that table, that means that there is a light on the street, and the new column will be 1 (true)."
   ]
  },
  {
   "cell_type": "code",
   "execution_count": null,
   "id": "cc06c0b9",
   "metadata": {},
   "outputs": [],
   "source": [
    "exec_result = db.execute_sql(\"\"\"\n",
    "ALTER TABLE osm_small\n",
    "ADD light int NOT NULL\n",
    "DEFAULT 0;\n",
    "\"\"\")\n",
    "\n",
    "db.execute_sql(\"\"\"\n",
    "update osm_small os\n",
    "set light = 1 \n",
    "where osm_id=\n",
    "(\n",
    "SELECT osm_id\n",
    "        FROM ki_home.lightness l\n",
    "        WHERE os.osm_id = l.osm_id\n",
    "        );\n",
    "\"\"\")"
   ]
  },
  {
   "cell_type": "markdown",
   "id": "c4816515",
   "metadata": {},
   "source": [
    "### Graph\n",
    "\n",
    "First we will create the graph with weights. Our weights are distance based (not time based)."
   ]
  },
  {
   "cell_type": "code",
   "execution_count": null,
   "id": "5a302e60",
   "metadata": {},
   "outputs": [],
   "source": [
    "exec_result = db.create_graph(\n",
    "    graph_name = \"dc_osm_graph\", \n",
    "    directed_graph = False,\n",
    "    edges = [\n",
    "    \"ki_home.osm_small.osm_id AS EDGE_ID\",\n",
    "    \"ki_home.osm_small.WKT AS EDGE_WKTLINE\"\n",
    "  ],\n",
    "    weights = [\n",
    "    \"ki_home.osm_small.osm_id AS WEIGHTS_EDGE_ID\",\n",
    "    \"ST_Length(ki_home.osm_small.WKT,1)/(ST_NPoints(ki_home.osm_small.WKT)-1) + ((1- ki_home.osm_small.light)*20) AS WEIGHTS_VALUESPECIFIED\"\n",
    "  ],\n",
    "                              {\n",
    "   \n",
    "    \"merge_tolerance\": \"0.00001\",\n",
    "    \"use_rtree\": \"false\",\n",
    "    \"min_x\": \"-180\",\n",
    "    \"max_x\": \"180\",\n",
    "    \"min_y\": \"-90\",\n",
    "    \"max_y\": \"90\",\n",
    "    \"recreate\": \"true\",\n",
    "    \"modify\": \"false\",\n",
    "    \"export_create_results\": \"false\",\n",
    "    \"enable_graph_draw\": \"true\",\n",
    "    \"save_persist\": \"false\",\n",
    "    \"sync_db\": \"false\",\n",
    "    \"add_table_monitor\": \"false\",\n",
    "    \"graph_table\": \"ki_home.dc_osm_graph_table\",\n",
    "    \"add_turns\": \"false\",\n",
    "    \"turn_angle\": \"60.0\",\n",
    "    \"is_partitioned\": \"false\"\n",
    "  \n",
    "}\n",
    ")\n",
    "exec_result['status_info']"
   ]
  },
  {
   "cell_type": "markdown",
   "id": "73f7f99e",
   "metadata": {},
   "source": [
    "\n",
    "Now we will solve the graph using the shortest_path solver"
   ]
  },
  {
   "cell_type": "code",
   "execution_count": null,
   "id": "fe5e86fe",
   "metadata": {},
   "outputs": [],
   "source": [
    "exec_result = db.solve_graph(\n",
    "    graph_name = \"dc_osm_graph\",\n",
    "    solver_type = \"SHORTEST_PATH\",\n",
    "    source_nodes = [\n",
    "    \"{'POINT(-77.037124 38.926142)'} AS NODE_WKTPOINT\"\n",
    "  ],\n",
    "    destination_nodes = [\n",
    "    \"{'POINT(-77.042686 38.922676)'} AS NODE_WKTPOINT\"\n",
    "  ],\n",
    "    solution_table = \"ki_home.dc_lit_path_solved\",\n",
    "    {\n",
    "    \"export_solve_results\": \"false\",\n",
    "    \"min_solution_radius\": \"0.0\",\n",
    "    \"max_solution_radius\": \"0.0\",\n",
    "    \"max_solution_targets\": \"0\",\n",
    "    \"accurate_snaps\": \"true\",\n",
    "    \"left_turn_penalty\": \"0.0\",\n",
    "    \"right_turn_penalty\": \"0.0\",\n",
    "    \"intersection_penalty\": \"0.0\",\n",
    "    \"sharp_turn_penalty\": \"0.0\",\n",
    "    \"output_edge_path\": \"false\",\n",
    "    \"output_wkt_path\": \"true\"\n",
    "  \n",
    "}\n",
    ")\n",
    "exec_result['status_info']"
   ]
  },
  {
   "cell_type": "markdown",
   "id": "7ee99e39",
   "metadata": {},
   "source": [
    "## Results\n",
    "\n",
    "Below is a before and after of the generated path based on the weights. The first image is the actual shortest path, with uniform weights set to 2 (``\"uniform_weights\": \"2\"``) during the time of graph solving. The second image is the generated safest path, with no changes to the weight expression already inputted during the graph creation, to account for the presence of lights on the streets. The shortest path has 32.44 lights/km, while the safest has 32.83 lights/km. This difference is small, however it could be because the distance this example spans is very short. In the next example, the difference in light/km ratio between the two paths is larger, and spans a greater distance."
   ]
  },
  {
   "cell_type": "markdown",
   "id": "85a84b9e",
   "metadata": {},
   "source": [
    "Here is a before and after of the generated path based on the wieghts.![shortest.png](images/map4.png)\n"
   ]
  },
  {
   "cell_type": "markdown",
   "id": "5142c866",
   "metadata": {},
   "source": [
    "![lit.png](images/map5.png)"
   ]
  },
  {
   "cell_type": "markdown",
   "id": "926c73a6",
   "metadata": {},
   "source": [
    "Here is another example of the difference in routing based on the weights. The image below depicts 2 routes from Howard Plaza Towers to Dupont Circle layered on top of our light mask we created earlier. The blue path is the actual shortest path, with uniform weights set to 2 as in the previous example. The green path is the most lit path using our custom weight expression. The blue path has 24 lights/km, while the green has 39 lights/km. This difference is much greater than the previous example, and may be due to the longer distance covered. The green path is longer than the blue by .21 km, however it has 15 more lights/km, which shows that our model is successful in prioritizing safety and litness over distance. \n",
    "![Screen%20Shot%202021-09-07%20at%2012.42.43%20PM.png](images/map6.png)"
   ]
  },
  {
   "cell_type": "markdown",
   "id": "458b6f31",
   "metadata": {},
   "source": [
    "### Further Applications\n",
    "More layers can be added to this model to generate even safer routes with more nuances. Additional wieghts can be added based on:\n",
    "* Real time police reports \n",
    "    * This will also highlight Kinetica's capabilities with live streaming data ingest\n",
    "* Cell coverage\n",
    "* Streets with sidewalks/bikelanes\n",
    "* CCTV locations\n",
    "* Zone type\n",
    "* Terrain type"
   ]
  },
  {
   "cell_type": "markdown",
   "id": "fd988f38",
   "metadata": {},
   "source": [
    "This model does not have to be limited to only runner safety. Some examples of applications beyond running include:\n",
    "* Hiking/biking routes\n",
    "* Student safety on/sorrounding college campuses\n",
    "* Parking at night"
   ]
  },
  {
   "cell_type": "markdown",
   "id": "d37d3cec",
   "metadata": {},
   "source": [
    "This model also has the potential to be scaled up to a bigger level such as state or nation wide, if you have the street light data to do so."
   ]
  },
  {
   "cell_type": "markdown",
   "id": "879177f8",
   "metadata": {},
   "source": [
    "### References\n",
    "\n",
    "1. Fuehrer, Dan, et al. “What Time of Day Do People Run?” *Runner's World*, 17 Sept. 2020, www.runnersworld.com/training/a20812346/what-time-of-day-do-people-run/. "
   ]
  },
  {
   "cell_type": "markdown",
   "id": "95bd2b8f",
   "metadata": {},
   "source": [
    "## Documentation\n",
    "- [Full Documentation](https://docs.kinetica.com/7.1/)\n",
    "- [Topic Based Quickstart Guides](https://docs.kinetica.com/7.1/guides/)\n",
    "\n",
    "## About Us\n",
    "Kinetica is an analytics database for fusing data across streams and data lakes to unlock value from spatial and temporal data at scale and speed. Learn about us [here](https://www.kinetica.com/).\n",
    "\n",
    "## Contact Us\n",
    "- Follow on Github: <a class=\"github-button\" href=\"https://github.com/kineticadb\" data-size=\"large\" aria-label=\"Follow @kineticadb on GitHub\">Follow @kineticadb</a>\n",
    "- Email: [support@kinetica.com](mailto:support@kinetica.com)\n",
    "- Slack: [Slack](https://www.kinetica.com/slack)\n",
    "- Visit: [https://www.kinetica.com/contact/](https://www.kinetica.com/contact/)\n",
    "\n",
    "## License\n",
    "\n",
    "The software is licensed under the MIT license."
   ]
  }
 ],
 "metadata": {
  "kernelspec": {
   "display_name": "Python 3 (ipykernel)",
   "language": "python",
   "name": "python3"
  },
  "language_info": {
   "codemirror_mode": {
    "name": "ipython",
    "version": 3
   },
   "file_extension": ".py",
   "mimetype": "text/x-python",
   "name": "python",
   "nbconvert_exporter": "python",
   "pygments_lexer": "ipython3",
   "version": "3.7.11"
  }
 },
 "nbformat": 4,
 "nbformat_minor": 5
}
